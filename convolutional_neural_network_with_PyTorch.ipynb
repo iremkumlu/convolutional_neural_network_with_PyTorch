{
  "nbformat": 4,
  "nbformat_minor": 0,
  "metadata": {
    "colab": {
      "provenance": [],
      "gpuType": "T4"
    },
    "kernelspec": {
      "name": "python3",
      "display_name": "Python 3"
    },
    "language_info": {
      "name": "python"
    },
    "accelerator": "GPU"
  },
  "cells": [
    {
      "cell_type": "code",
      "source": [
        "!pip install opencv-python-headless"
      ],
      "metadata": {
        "colab": {
          "base_uri": "https://localhost:8080/"
        },
        "id": "6KwrJ8-gJFib",
        "outputId": "8b35cd4c-e31a-4ab4-8c02-ac761e04813e"
      },
      "execution_count": 45,
      "outputs": [
        {
          "output_type": "stream",
          "name": "stdout",
          "text": [
            "Requirement already satisfied: opencv-python-headless in /usr/local/lib/python3.10/dist-packages (4.10.0.84)\n",
            "Requirement already satisfied: numpy>=1.21.2 in /usr/local/lib/python3.10/dist-packages (from opencv-python-headless) (1.26.4)\n"
          ]
        }
      ]
    },
    {
      "cell_type": "code",
      "execution_count": 62,
      "metadata": {
        "id": "wlJUNwBxJkDy"
      },
      "outputs": [],
      "source": [
        "import cv2\n",
        "import torch\n",
        "import torch.nn as nn\n",
        "import torchvision.transforms as transforms\n",
        "import torchvision.datasets as datasets\n",
        "from torch.autograd import Variable\n",
        "from torch.utils.data import DataLoader, Dataset\n",
        "\n",
        "import matplotlib.pyplot as plt\n",
        "from PIL import Image\n",
        "import numpy as np\n",
        "\n",
        "# cv2.imshow()\n",
        "from google.colab.patches import cv2_imshow\n",
        "\n"
      ]
    },
    {
      "cell_type": "code",
      "source": [
        "# precomputed mean and stddev\n",
        "mean_gray = 0.1307\n",
        "stddev_gray = 0.3081\n",
        "\n",
        "# Transform the images to tensors\n",
        "transforms_original = transforms.Compose([transforms.ToTensor(),\n",
        "                                          transforms.Normalize((mean_gray,), (stddev_gray,))])\n",
        "transforms_photo = transforms.Compose([transforms.Resize((28,28)),\n",
        "                                       transforms.ToTensor(),\n",
        "                                       transforms.Normalize((mean_gray,), (stddev_gray,))])\n",
        "\n"
      ],
      "metadata": {
        "id": "F8IhHdXSSpBy"
      },
      "execution_count": null,
      "outputs": []
    },
    {
      "cell_type": "markdown",
      "source": [
        "# Load Dataset"
      ],
      "metadata": {
        "id": "aE8PSbcTUVgH"
      }
    },
    {
      "cell_type": "code",
      "source": [
        "train_dataset = datasets.MNIST(root = './data',\n",
        "                               train= True,\n",
        "                               transform =  transforms_original,\n",
        "                               download =  True)\n",
        "test_dataset =  datasets.MNIST(root = './data',\n",
        "                               train = False,\n",
        "                               transform = transforms_original)"
      ],
      "metadata": {
        "id": "YXyu8_YNUYak"
      },
      "execution_count": null,
      "outputs": []
    },
    {
      "cell_type": "markdown",
      "source": [
        "# Random Image"
      ],
      "metadata": {
        "id": "u_PMubbCWIDY"
      }
    },
    {
      "cell_type": "code",
      "source": [
        "import matplotlib.pyplot as plt\n",
        "\n",
        "# Data\n",
        "random_image = train_dataset[20][0].numpy()*stddev_gray + mean_gray\n",
        "plt.imshow(random_image.reshape(28,28),cmap='gray')"
      ],
      "metadata": {
        "colab": {
          "base_uri": "https://localhost:8080/",
          "height": 447
        },
        "id": "5X0gIudcWOPO",
        "outputId": "91a391b2-6b2b-439b-d740-bc29f9e9b411"
      },
      "execution_count": null,
      "outputs": [
        {
          "output_type": "execute_result",
          "data": {
            "text/plain": [
              "<matplotlib.image.AxesImage at 0x7ec2ea4c7220>"
            ]
          },
          "metadata": {},
          "execution_count": 5
        },
        {
          "output_type": "display_data",
          "data": {
            "text/plain": [
              "<Figure size 640x480 with 1 Axes>"
            ],
            "image/png": "[encoded data removed]"
          },
          "metadata": {}
        }
      ]
    },
    {
      "cell_type": "code",
      "source": [
        "# Label\n",
        "print(train_dataset[20][1])"
      ],
      "metadata": {
        "colab": {
          "base_uri": "https://localhost:8080/"
        },
        "id": "UwrhivCbW_Ij",
        "outputId": "28e874ac-d1d0-46e7-82ce-da1d7aa46434"
      },
      "execution_count": null,
      "outputs": [
        {
          "output_type": "stream",
          "name": "stdout",
          "text": [
            "4\n"
          ]
        }
      ]
    },
    {
      "cell_type": "code",
      "source": [
        "# Iterable Dataset\n",
        "\n",
        "batch_size = 100\n",
        "train_loader = torch.utils.data.DataLoader(dataset=train_dataset,\n",
        "                                           batch_size = batch_size,\n",
        "                                           shuffle = True)\n",
        "test_loader = torch.utils.data.DataLoader(dataset=test_dataset,\n",
        "                                          batch_size = batch_size,\n",
        "                                          shuffle=False)"
      ],
      "metadata": {
        "id": "JRHl51tnXa8L"
      },
      "execution_count": null,
      "outputs": []
    },
    {
      "cell_type": "code",
      "source": [
        "len(train_dataset)"
      ],
      "metadata": {
        "colab": {
          "base_uri": "https://localhost:8080/"
        },
        "id": "mJda9RtcXIyO",
        "outputId": "ab046adf-387c-4ae3-8fbc-f04a7bb20b78"
      },
      "execution_count": null,
      "outputs": [
        {
          "output_type": "execute_result",
          "data": {
            "text/plain": [
              "60000"
            ]
          },
          "metadata": {},
          "execution_count": 11
        }
      ]
    },
    {
      "cell_type": "code",
      "source": [
        "len(train_loader)"
      ],
      "metadata": {
        "colab": {
          "base_uri": "https://localhost:8080/"
        },
        "id": "-VtiOLNiYFXO",
        "outputId": "9f8af00b-9258-4b08-d082-db04ed40e96a"
      },
      "execution_count": null,
      "outputs": [
        {
          "output_type": "execute_result",
          "data": {
            "text/plain": [
              "600"
            ]
          },
          "metadata": {},
          "execution_count": 12
        }
      ]
    },
    {
      "cell_type": "code",
      "source": [
        "60000/100"
      ],
      "metadata": {
        "id": "KQZWxdesZn5J"
      },
      "execution_count": null,
      "outputs": []
    },
    {
      "cell_type": "code",
      "source": [
        "print('Training Set (images) : {}' .format(len(train_dataset)))\n",
        "print('Test Set (images) : {}' .format(len(test_dataset)))\n",
        "\n",
        "print('Train Loader Batches : {}' .format(len(train_loader)))\n",
        "print('Test Loader Batches : {}' .format(len(test_loader)))"
      ],
      "metadata": {
        "colab": {
          "base_uri": "https://localhost:8080/"
        },
        "id": "CK6WEGVcYLK_",
        "outputId": "297d4f76-38b0-4d21-8757-f85a787cbccc"
      },
      "execution_count": 23,
      "outputs": [
        {
          "output_type": "stream",
          "name": "stdout",
          "text": [
            "Training Set (images) : 60000\n",
            "Test Set (images) : 10000\n",
            "Train Loader Batches : 600\n",
            "Test Loader Batches : 100\n"
          ]
        }
      ]
    },
    {
      "cell_type": "markdown",
      "source": [
        "# Model Class"
      ],
      "metadata": {
        "id": "JRo_v4hdZfq-"
      }
    },
    {
      "cell_type": "code",
      "source": [
        "class CNN(nn.Module):\n",
        "    def __init__(self):\n",
        "        super(CNN, self).__init__()\n",
        "        self.cnn1 = nn.Conv2d(in_channels=1, out_channels=8, kernel_size=3, stride=1, padding=1)\n",
        "        self.batchnorm1 = nn.BatchNorm2d(8)\n",
        "        self.relu = nn.ReLU()\n",
        "        self.maxpool1 = nn.MaxPool2d(kernel_size=2)\n",
        "\n",
        "        self.cnn2 = nn.Conv2d(in_channels=8, out_channels=32, kernel_size=5, stride=1, padding=2)\n",
        "        self.batchnorm2 = nn.BatchNorm2d(32)\n",
        "        self.maxpool2 = nn.MaxPool2d(kernel_size=2)\n",
        "\n",
        "        self.fc1 = nn.Linear(in_features=1568, out_features=600)\n",
        "        self.dropout = nn.Dropout(p=0.5)\n",
        "        self.fc2 = nn.Linear(in_features=600, out_features=10)\n",
        "\n",
        "    def forward(self, x):\n",
        "        x = self.cnn1(x)\n",
        "        x = self.batchnorm1(x)\n",
        "        x = self.relu(x)\n",
        "        x = self.maxpool1(x)\n",
        "        x = self.cnn2(x)\n",
        "        x = self.batchnorm2(x)\n",
        "        x = self.maxpool2(x)\n",
        "        x = x.view(x.size(0), -1)\n",
        "        x = self.relu(x)\n",
        "        x = self.dropout(x)\n",
        "        x = self.fc1(x)\n",
        "        x = self.fc2(x)\n",
        "        return x\n"
      ],
      "metadata": {
        "id": "C6s64GwGZVV5"
      },
      "execution_count": 27,
      "outputs": []
    },
    {
      "cell_type": "code",
      "source": [
        "model = CNN()\n",
        "CUDA = torch.cuda.is_available()\n",
        "if CUDA:\n",
        "  model=model.cuda()\n",
        "loss_fn = nn.CrossEntropyLoss()\n",
        "optimizer = torch.optim.SGD(model.parameters(), lr=0.01)"
      ],
      "metadata": {
        "id": "0VRL49f2gzfB"
      },
      "execution_count": 28,
      "outputs": []
    },
    {
      "cell_type": "code",
      "source": [
        "iteration = 0\n",
        "correct = 0\n",
        "\n",
        "for i, (inputs, labels) in enumerate(train_loader):\n",
        "\n",
        "    CUDA = torch.cuda.is_available()\n",
        "    if CUDA:\n",
        "        inputs = inputs.cuda()\n",
        "        labels = labels.cuda()\n",
        "\n",
        "    print(\"Her bir iterasyonda...\")\n",
        "    print(\"Input Shape:\", inputs.shape)\n",
        "    print(\"Labels Shape:\", labels.shape)\n",
        "    output = model(inputs)\n",
        "    print(\"Output Shape : \", output.shape)  # Burayı düzelttik\n",
        "    _, predicted = torch.max(output, 1)\n",
        "    print(\"Predicted Shape:\", predicted.shape)\n",
        "    print(\"Predicted Tensor:\")\n",
        "    print(predicted)\n",
        "    correct += (predicted == labels).sum()\n",
        "    break\n"
      ],
      "metadata": {
        "colab": {
          "base_uri": "https://localhost:8080/"
        },
        "id": "FQ1UQhs8jAi6",
        "outputId": "899aadc2-d88d-42d3-cc2d-defb2c58c933"
      },
      "execution_count": 29,
      "outputs": [
        {
          "output_type": "stream",
          "name": "stdout",
          "text": [
            "Her bir iterasyonda...\n",
            "Input Shape: torch.Size([100, 1, 28, 28])\n",
            "Labels Shape: torch.Size([100])\n",
            "Output Shape :  torch.Size([100, 10])\n",
            "Predicted Shape: torch.Size([100])\n",
            "Predicted Tensor:\n",
            "tensor([6, 7, 8, 3, 6, 6, 6, 4, 0, 7, 7, 7, 6, 0, 7, 4, 0, 8, 8, 8, 8, 2, 3, 6,\n",
            "        6, 2, 3, 6, 6, 6, 6, 8, 6, 4, 7, 6, 6, 2, 7, 3, 7, 3, 2, 7, 3, 7, 6, 0,\n",
            "        6, 0, 2, 3, 4, 6, 8, 8, 6, 6, 6, 6, 8, 7, 2, 8, 2, 0, 6, 6, 7, 4, 7, 7,\n",
            "        6, 3, 3, 6, 6, 0, 8, 6, 6, 8, 8, 3, 4, 8, 5, 4, 2, 6, 3, 2, 6, 6, 7, 0,\n",
            "        8, 7, 6, 6])\n"
          ]
        }
      ]
    },
    {
      "cell_type": "markdown",
      "source": [
        "# Training the Model"
      ],
      "metadata": {
        "id": "6T1hZzrlsaX9"
      }
    },
    {
      "cell_type": "code",
      "source": [
        "num_epochs = 25\n",
        "\n",
        "train_loss = []\n",
        "test_loss = []\n",
        "train_accuracy = []\n",
        "test_accuracy = []\n",
        "\n",
        "for epoch in range(num_epochs):\n",
        "\n",
        "  correct = 0\n",
        "  iterations = 0\n",
        "  iter_loss = 0.0\n",
        "\n",
        "  model.train()\n",
        "\n",
        "  for i, (inputs, labels) in enumerate(train_loader):\n",
        "\n",
        "    CUDA = torch.cuda.is_available()\n",
        "    if CUDA:\n",
        "      inputs = inputs.cuda()\n",
        "      labels=labels.cuda()\n",
        "\n",
        "    outputs = model(inputs)\n",
        "    loss = loss_fn(outputs, labels)\n",
        "    iter_loss += loss.item()\n",
        "    optimizer.zero_grad()\n",
        "    loss.backward()\n",
        "    optimizer.step()     # update the weights\n",
        "\n",
        "    _, predicted = torch.max(outputs, 1)\n",
        "    correct += (predicted == labels).sum()\n",
        "    iterations += 1\n",
        "\n",
        "  train_loss.append(iter_loss/iterations)\n",
        "  train_accuracy.append((100*correct/len(train_dataset)))\n",
        "\n",
        "  testing_loss = 0.0\n",
        "  correct = 0\n",
        "  iterations = 0\n",
        "\n",
        "  model.eval()        # NN evaluation mode'a sok\n",
        "\n",
        "  for i, (inputs, labels) in enumerate(test_loader):\n",
        "\n",
        "    CUDA = torch.cuda.is_available()\n",
        "    if CUDA:\n",
        "      inputs = inputs.cuda()\n",
        "      labels=labels.cuda()\n",
        "\n",
        "    outputs = model(inputs)\n",
        "    loss = loss_fn(outputs, labels)\n",
        "    testing_loss += loss.item()\n",
        "\n",
        "    _, predicted = torch.max(outputs, 1)\n",
        "    correct += (predicted == labels).sum()\n",
        "    iterations += 1\n",
        "\n",
        "  test_loss.append(testing_loss/iterations)\n",
        "  test_accuracy.append((100*correct/len(test_dataset)))\n",
        "\n",
        "  print('Epoch {}/{}, Training Loss: {:.3f}, Training Accuracy: {:.3f}, Testing Loss: {:.3f}, Testing Acc: {:.3f}'\n",
        "           .format(epoch+1, num_epochs, train_loss[-1], train_accuracy[-1], test_loss[-1], test_accuracy[-1]))\n",
        "\n"
      ],
      "metadata": {
        "colab": {
          "base_uri": "https://localhost:8080/"
        },
        "id": "U_BvFc7HsdXZ",
        "outputId": "af3e2719-3ed3-4ceb-afd2-88e83157bc1f"
      },
      "execution_count": 32,
      "outputs": [
        {
          "output_type": "stream",
          "name": "stdout",
          "text": [
            "Epoch 1/25, Training Loss: 0.137, Training Accuracy: 95.873, Testing Loss: 0.078, Testing Acc: 97.660\n",
            "Epoch 2/25, Training Loss: 0.117, Training Accuracy: 96.415, Testing Loss: 0.065, Testing Acc: 97.940\n",
            "Epoch 3/25, Training Loss: 0.105, Training Accuracy: 96.740, Testing Loss: 0.060, Testing Acc: 98.130\n",
            "Epoch 4/25, Training Loss: 0.096, Training Accuracy: 97.075, Testing Loss: 0.054, Testing Acc: 98.260\n",
            "Epoch 5/25, Training Loss: 0.088, Training Accuracy: 97.250, Testing Loss: 0.050, Testing Acc: 98.440\n",
            "Epoch 6/25, Training Loss: 0.083, Training Accuracy: 97.435, Testing Loss: 0.046, Testing Acc: 98.540\n",
            "Epoch 7/25, Training Loss: 0.078, Training Accuracy: 97.587, Testing Loss: 0.045, Testing Acc: 98.560\n",
            "Epoch 8/25, Training Loss: 0.073, Training Accuracy: 97.718, Testing Loss: 0.042, Testing Acc: 98.650\n",
            "Epoch 9/25, Training Loss: 0.070, Training Accuracy: 97.878, Testing Loss: 0.040, Testing Acc: 98.600\n",
            "Epoch 10/25, Training Loss: 0.068, Training Accuracy: 97.850, Testing Loss: 0.037, Testing Acc: 98.700\n",
            "Epoch 11/25, Training Loss: 0.067, Training Accuracy: 97.890, Testing Loss: 0.037, Testing Acc: 98.760\n",
            "Epoch 12/25, Training Loss: 0.065, Training Accuracy: 97.935, Testing Loss: 0.037, Testing Acc: 98.760\n",
            "Epoch 13/25, Training Loss: 0.062, Training Accuracy: 98.057, Testing Loss: 0.036, Testing Acc: 98.800\n",
            "Epoch 14/25, Training Loss: 0.060, Training Accuracy: 98.137, Testing Loss: 0.034, Testing Acc: 98.860\n",
            "Epoch 15/25, Training Loss: 0.059, Training Accuracy: 98.178, Testing Loss: 0.034, Testing Acc: 98.840\n",
            "Epoch 16/25, Training Loss: 0.055, Training Accuracy: 98.305, Testing Loss: 0.034, Testing Acc: 98.870\n",
            "Epoch 17/25, Training Loss: 0.057, Training Accuracy: 98.207, Testing Loss: 0.033, Testing Acc: 98.850\n",
            "Epoch 18/25, Training Loss: 0.054, Training Accuracy: 98.268, Testing Loss: 0.032, Testing Acc: 98.820\n",
            "Epoch 19/25, Training Loss: 0.054, Training Accuracy: 98.295, Testing Loss: 0.034, Testing Acc: 98.840\n",
            "Epoch 20/25, Training Loss: 0.053, Training Accuracy: 98.325, Testing Loss: 0.032, Testing Acc: 98.880\n",
            "Epoch 21/25, Training Loss: 0.051, Training Accuracy: 98.388, Testing Loss: 0.030, Testing Acc: 98.910\n",
            "Epoch 22/25, Training Loss: 0.051, Training Accuracy: 98.415, Testing Loss: 0.032, Testing Acc: 98.920\n",
            "Epoch 23/25, Training Loss: 0.050, Training Accuracy: 98.428, Testing Loss: 0.030, Testing Acc: 98.910\n",
            "Epoch 24/25, Training Loss: 0.048, Training Accuracy: 98.463, Testing Loss: 0.030, Testing Acc: 98.910\n",
            "Epoch 25/25, Training Loss: 0.047, Training Accuracy: 98.495, Testing Loss: 0.029, Testing Acc: 98.900\n"
          ]
        }
      ]
    },
    {
      "cell_type": "code",
      "source": [
        "# Plotting the Loss\n",
        "fig=plt.figure(figsize=(10,10))\n",
        "plt.plot(train_loss, label='Training Loss')\n",
        "plt.plot(test_loss, label='Test Loss')\n",
        "plt.legend()\n",
        "plt.show()"
      ],
      "metadata": {
        "colab": {
          "base_uri": "https://localhost:8080/",
          "height": 830
        },
        "id": "jfGSj5wPBR6L",
        "outputId": "c7571be0-e264-41d7-bf86-1c516285649b"
      },
      "execution_count": 33,
      "outputs": [
        {
          "output_type": "display_data",
          "data": {
            "text/plain": [
              "<Figure size 1000x1000 with 1 Axes>"
            ],
            "image/png": "[encoded data removed]"
          },
          "metadata": {}
        }
      ]
    },
    {
      "cell_type": "code",
      "source": [
        "plt.imshow(test_dataset[10][0].reshape(28,28), cmap='gray')"
      ],
      "metadata": {
        "colab": {
          "base_uri": "https://localhost:8080/",
          "height": 447
        },
        "id": "_AMvT6kHBq30",
        "outputId": "c454d69b-b7ab-43cd-dadd-b4f34c9fcdb7"
      },
      "execution_count": 35,
      "outputs": [
        {
          "output_type": "execute_result",
          "data": {
            "text/plain": [
              "<matplotlib.image.AxesImage at 0x7ec2ea350d30>"
            ]
          },
          "metadata": {},
          "execution_count": 35
        },
        {
          "output_type": "display_data",
          "data": {
            "text/plain": [
              "<Figure size 640x480 with 1 Axes>"
            ],
            "image/png": "[encoded data removed]"
          },
          "metadata": {}
        }
      ]
    },
    {
      "cell_type": "code",
      "source": [
        "def predict(img_name, model):\n",
        "    # Resmi oku\n",
        "    image = cv2.imread(img_name, 0)\n",
        "    if image is None:\n",
        "        raise FileNotFoundError(f\"{img_name} dosyası bulunamadı.\")\n",
        "\n",
        "    # Görüntüyü 28x28 boyutlarına küçült\n",
        "    image_resized = cv2.resize(image, (28, 28))\n",
        "\n",
        "    # Görüntü işleme (binarize etme)\n",
        "    ret, thresholded = cv2.threshold(image_resized, 127, 255, cv2.THRESH_BINARY)\n",
        "    img = 255 - thresholded  # Siyah beyaz ters çevrildi\n",
        "\n",
        "    # Görüntüyü göster\n",
        "    cv2_imshow(img)\n",
        "    cv2.waitKey(0)\n",
        "    cv2.destroyAllWindows()\n",
        "\n",
        "    # PyTorch tensörüne dönüştür ve boyutları düzenle\n",
        "    img = Image.fromarray(img)\n",
        "    transform = transforms.Compose([transforms.ToTensor()])\n",
        "    img = transform(img).unsqueeze(0)  # 1x1x28x28 formatında (batch_size, channels, height, width)\n",
        "\n",
        "    # Modelin doğru çalışabilmesi için CUDA'ya taşı\n",
        "    model.eval()\n",
        "    if torch.cuda.is_available():\n",
        "        model = model.cuda()\n",
        "        img = img.cuda()\n",
        "\n",
        "    # Model tahminini yap\n",
        "    output = model(img)\n",
        "    _, predicted = torch.max(output, 1)\n",
        "\n",
        "    return predicted.item()\n",
        "\n",
        "# Tahmin\n",
        "prediction = predict('uc.png', model)\n",
        "print(f\"Tahmin edilen Label: {prediction}\")"
      ],
      "metadata": {
        "colab": {
          "base_uri": "https://localhost:8080/",
          "height": 62
        },
        "id": "HMoxbk0yCKt4",
        "outputId": "38d89591-3d48-4776-ec4c-491f64cbd196"
      },
      "execution_count": 71,
      "outputs": [
        {
          "output_type": "display_data",
          "data": {
            "text/plain": [
              "<PIL.Image.Image image mode=L size=28x28>"
            ],
            "image/png": "[encoded data removed]",
            "image/jpeg": "[encoded data removed]"
          },
          "metadata": {}
        },
        {
          "output_type": "stream",
          "name": "stdout",
          "text": [
            "Tahmin edilen Label: 1\n"
          ]
        }
      ]
    },
    {
      "cell_type": "code",
      "source": [
        "# Görüntü ve etikete erişim\n",
        "img, label = test_dataset[12]\n",
        "\n",
        "# Resize işlemi (PyTorch Tensors)\n",
        "img = img.unsqueeze(0)  # Batch boyutunu ekler: (1, C, H, W)\n",
        "\n",
        "# Model değerlendirme modunda\n",
        "model.eval()\n",
        "\n",
        "# CUDA kontrolü\n",
        "CUDA = torch.cuda.is_available()\n",
        "if CUDA:\n",
        "    model = model.cuda()\n",
        "    img = img.cuda()\n",
        "\n",
        "# Modelden tahmin alma\n",
        "output = model(img)\n",
        "_, predicted = torch.max(output, 1)\n",
        "\n",
        "# Tahmin ve gerçek etiketi yazdırma\n",
        "print(f\"Tahmin edilen label: {predicted.item()}\")\n",
        "print(f\"Gerçek label: {label}\")\n"
      ],
      "metadata": {
        "colab": {
          "base_uri": "https://localhost:8080/"
        },
        "id": "Ko2k108IGkfW",
        "outputId": "78e5cf2d-7b04-4ef1-f1a3-7373bd6bc768"
      },
      "execution_count": 61,
      "outputs": [
        {
          "output_type": "stream",
          "name": "stdout",
          "text": [
            "Tahmin edilen label: 9\n",
            "Gerçek label: 9\n"
          ]
        }
      ]
    }
  ]
}